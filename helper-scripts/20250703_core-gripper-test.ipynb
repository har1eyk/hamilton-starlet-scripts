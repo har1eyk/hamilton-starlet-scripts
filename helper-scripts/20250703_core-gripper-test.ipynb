{
 "cells": [
  {
   "cell_type": "code",
   "execution_count": null,
   "id": "c48c5ad4",
   "metadata": {},
   "outputs": [],
   "source": [
    "# this didn't work. The grippers grabbed the plate but then dropped it. Had to reset and grippers got\n",
    "# dropped into the trash. \n",
    "# I think it ws because grippers went slightly below the plate, probably because I'm using the wrong carrier\n",
    "# I haven't found my carrier in the resource library. Neither deep well nor plate specific. \n",
    "# 2025 July 3 hjk\n",
    "\n",
    "%load_ext autoreload\n",
    "%autoreload 2"
   ]
  },
  {
   "cell_type": "code",
   "execution_count": 2,
   "id": "a7df690f",
   "metadata": {},
   "outputs": [],
   "source": [
    "# Start by importing the LiquidHandler class, which will serve as a front end for all liquid handling operations.\n",
    "# Backends serve as communicators between LiquidHandlers and the actual hardware. Since we are using a Hamilton STAR, we also import the STARBackend backend.\n",
    "\n",
    "from pylabrobot.liquid_handling import LiquidHandler\n",
    "from pylabrobot.liquid_handling.backends import STARBackend"
   ]
  },
  {
   "cell_type": "code",
   "execution_count": 3,
   "id": "dcc0295b",
   "metadata": {},
   "outputs": [],
   "source": [
    "# In addition, import the STARLetDeck, which represents the deck of the Hamilton STAR.\n",
    "from pylabrobot.resources.hamilton import STARLetDeck"
   ]
  },
  {
   "cell_type": "code",
   "execution_count": 4,
   "id": "669fbed7",
   "metadata": {},
   "outputs": [],
   "source": [
    "# Create a new liquid handler using STARBackend as its backend.\n",
    "backend = STARBackend()\n",
    "# backend = STARBackend(auto_detach_kernel_driver=True) \n",
    "# backend.auto_detach_kernel_driver = True\n",
    "\n",
    "lh = LiquidHandler(backend=backend, deck=STARLetDeck())"
   ]
  },
  {
   "cell_type": "code",
   "execution_count": 5,
   "id": "d2cc2700",
   "metadata": {},
   "outputs": [],
   "source": [
    "# The final step is to open communication with the robot. This is done using the setup() method.\n",
    "await lh.setup()\n",
    "\n",
    "#About 45s to initialize"
   ]
  },
  {
   "cell_type": "code",
   "execution_count": 6,
   "id": "9e45a231",
   "metadata": {},
   "outputs": [],
   "source": [
    "# Start by importing the relevant objects and variables from the PyLabRobot package. This notebook uses the following resources:\n",
    "from pylabrobot.resources import (\n",
    "  TIP_CAR_480_A00,\n",
    "  PLT_CAR_L5AC_A00,\n",
    "  AGenBio_96_wellplate_Ub_2200ul,\n",
    "  HTF, #Tip Rack with 96 1000ul High Volume Tip with filter\n",
    ")"
   ]
  },
  {
   "cell_type": "code",
   "execution_count": 7,
   "id": "7c5390d2",
   "metadata": {},
   "outputs": [],
   "source": [
    "# Then create a tip carrier named tip carrier, which will contain tip rack at all 5 positions. These positions can be accessed using tip_car[x], and are 0 indexed.\n",
    "tip_car = TIP_CAR_480_A00(name=\"tip carrier\")\n",
    "tip_car[0] = HTF(name=\"tips_01\")\n",
    "# Use assign_child_resources() to assign the tip carrier to the deck of the liquid handler. All resources contained by this carrier will be assigned automatically.\n",
    "# In the rails parameter, we can pass the location of the tip carrier. The locations of the tips will automatically be calculated.\n",
    "lh.deck.assign_child_resource(tip_car, rails=1)"
   ]
  },
  {
   "cell_type": "code",
   "execution_count": 8,
   "id": "7cd7ca4a",
   "metadata": {},
   "outputs": [],
   "source": [
    "# Repeat this for the plates.\n",
    "pc1 = PLT_CAR_L5AC_A00(name=\"plate carrier 1\")\n",
    "pc1[0] = AGenBio_96_wellplate_Ub_2200ul(name=\"plate_01\")\n",
    "lh.deck.assign_child_resource(pc1, rails=13)\n",
    "\n",
    "pc2 = PLT_CAR_L5AC_A00(name=\"plate carrier 2\") #empty\n",
    "lh.deck.assign_child_resource(pc2, rails=19)\n",
    "\n",
    "pc3 = PLT_CAR_L5AC_A00(name=\"plate carrier 3\") #empty\n",
    "lh.deck.assign_child_resource(pc3, rails=25)\n"
   ]
  },
  {
   "cell_type": "code",
   "execution_count": 9,
   "id": "3cbc3044",
   "metadata": {},
   "outputs": [
    {
     "name": "stdout",
     "output_type": "stream",
     "text": [
      "Rail  Resource                      Type           Coordinates (mm)\n",
      "=================================================================================\n",
      "(-6)  ├── trash_core96              Trash          (-58.200, 106.000, 229.000)\n",
      "      │\n",
      "(1)   ├── tip carrier               TipCarrier     (100.000, 063.000, 100.000)\n",
      "      │   ├── tips_01               TipRack        (106.200, 073.000, 214.950)\n",
      "      │   ├── <empty>\n",
      "      │   ├── <empty>\n",
      "      │   ├── <empty>\n",
      "      │   ├── <empty>\n",
      "      │\n",
      "(13)  ├── plate carrier 1           PlateCarrier   (370.000, 063.000, 100.000)\n",
      "      │   ├── plate_01              Plate          (374.000, 071.500, 182.350)\n",
      "      │   ├── <empty>\n",
      "      │   ├── <empty>\n",
      "      │   ├── <empty>\n",
      "      │   ├── <empty>\n",
      "      │\n",
      "(19)  ├── plate carrier 2           PlateCarrier   (505.000, 063.000, 100.000)\n",
      "      │   ├── <empty>\n",
      "      │   ├── <empty>\n",
      "      │   ├── <empty>\n",
      "      │   ├── <empty>\n",
      "      │   ├── <empty>\n",
      "      │\n",
      "(25)  ├── plate carrier 3           PlateCarrier   (640.000, 063.000, 100.000)\n",
      "      │   ├── <empty>\n",
      "      │   ├── <empty>\n",
      "      │   ├── <empty>\n",
      "      │   ├── <empty>\n",
      "      │   ├── <empty>\n",
      "      │\n",
      "(31)  ├── waste_block               Resource       (775.000, 115.000, 100.000)\n",
      "      │   ├── teaching_tip_rack     TipRack        (780.900, 461.100, 100.000)\n",
      "      │\n",
      "(32)  ├── trash                     Trash          (800.000, 190.600, 137.100)\n",
      "\n"
     ]
    }
   ],
   "source": [
    "lh.summary()\n"
   ]
  },
  {
   "cell_type": "code",
   "execution_count": 10,
   "id": "9bac0a29",
   "metadata": {},
   "outputs": [
    {
     "ename": "STARFirmwareError",
     "evalue": "{'Pipetting channel 2': HardwareError('Stop during execution of command'), 'Pipetting channel 3': HardwareError('Y-drive movement error')}, C0ZRid0009er99/00 P202/37 P302/57",
     "output_type": "error",
     "traceback": [
      "\u001b[31m---------------------------------------------------------------------------\u001b[39m",
      "\u001b[31mSTARFirmwareError\u001b[39m                         Traceback (most recent call last)",
      "\u001b[36mCell\u001b[39m\u001b[36m \u001b[39m\u001b[32mIn[10]\u001b[39m\u001b[32m, line 5\u001b[39m\n\u001b[32m      2\u001b[39m src  = pc1[\u001b[32m0\u001b[39m]          \u001b[38;5;66;03m# the plate you want to move\u001b[39;00m\n\u001b[32m      3\u001b[39m dest = pc1[\u001b[32m1\u001b[39m]          \u001b[38;5;66;03m# an empty site on that carrier\u001b[39;00m\n\u001b[32m----> \u001b[39m\u001b[32m5\u001b[39m \u001b[38;5;28;01mawait\u001b[39;00m lh.move_plate(                       \u001b[38;5;66;03m# high-level helper\u001b[39;00m\n\u001b[32m      6\u001b[39m     src,\n\u001b[32m      7\u001b[39m     dest,\n\u001b[32m      8\u001b[39m     use_arm=\u001b[33m\"\u001b[39m\u001b[33mcore\u001b[39m\u001b[33m\"\u001b[39m,                        \u001b[38;5;66;03m# tell PLR to use the CO-RE gripper\u001b[39;00m\n\u001b[32m      9\u001b[39m     channel_1=\u001b[32m2\u001b[39m, channel_2=\u001b[32m3\u001b[39m,              \u001b[38;5;66;03m# zero-based channels that hold the fingers\u001b[39;00m\n\u001b[32m     10\u001b[39m     core_grip_strength=\u001b[32m30\u001b[39m,                 \u001b[38;5;66;03m# 0 = loose … 99 = very tight\u001b[39;00m\n\u001b[32m     11\u001b[39m     return_core_gripper=\u001b[38;5;28;01mTrue\u001b[39;00m               \u001b[38;5;66;03m# park the fingers afterwards\u001b[39;00m\n\u001b[32m     12\u001b[39m )\n",
      "\u001b[36mFile \u001b[39m\u001b[32m~/Documents/Hamilton-Starlet/pylabrobot/pylabrobot/liquid_handling/liquid_handler.py:2275\u001b[39m, in \u001b[36mLiquidHandler.move_plate\u001b[39m\u001b[34m(self, plate, to, intermediate_locations, pickup_offset, destination_offset, drop_direction, pickup_direction, pickup_distance_from_top, **backend_kwargs)\u001b[39m\n\u001b[32m   2231\u001b[39m \u001b[38;5;250m\u001b[39m\u001b[33;03m\"\"\"Move a plate to a new location.\u001b[39;00m\n\u001b[32m   2232\u001b[39m \n\u001b[32m   2233\u001b[39m \u001b[33;03mA convenience method for :meth:`move_resource`.\u001b[39;00m\n\u001b[32m   (...)\u001b[39m\u001b[32m   2260\u001b[39m \u001b[33;03m  destination_offset: The offset from the location's origin, optional (rarely necessary).\u001b[39;00m\n\u001b[32m   2261\u001b[39m \u001b[33;03m\"\"\"\u001b[39;00m\n\u001b[32m   2263\u001b[39m \u001b[38;5;28mself\u001b[39m._log_command(\n\u001b[32m   2264\u001b[39m   \u001b[33m\"\u001b[39m\u001b[33mmove_plate\u001b[39m\u001b[33m\"\u001b[39m,\n\u001b[32m   2265\u001b[39m   plate=plate,\n\u001b[32m   (...)\u001b[39m\u001b[32m   2272\u001b[39m   pickup_distance_from_top=pickup_distance_from_top,\n\u001b[32m   2273\u001b[39m )\n\u001b[32m-> \u001b[39m\u001b[32m2275\u001b[39m \u001b[38;5;28;01mawait\u001b[39;00m \u001b[38;5;28mself\u001b[39m.move_resource(\n\u001b[32m   2276\u001b[39m   plate,\n\u001b[32m   2277\u001b[39m   to=to,\n\u001b[32m   2278\u001b[39m   intermediate_locations=intermediate_locations,\n\u001b[32m   2279\u001b[39m   pickup_distance_from_top=pickup_distance_from_top,\n\u001b[32m   2280\u001b[39m   pickup_offset=pickup_offset,\n\u001b[32m   2281\u001b[39m   destination_offset=destination_offset,\n\u001b[32m   2282\u001b[39m   pickup_direction=pickup_direction,\n\u001b[32m   2283\u001b[39m   drop_direction=drop_direction,\n\u001b[32m   2284\u001b[39m   **backend_kwargs,\n\u001b[32m   2285\u001b[39m )\n",
      "\u001b[36mFile \u001b[39m\u001b[32m~/Documents/Hamilton-Starlet/pylabrobot/pylabrobot/liquid_handling/liquid_handler.py:2152\u001b[39m, in \u001b[36mLiquidHandler.move_resource\u001b[39m\u001b[34m(self, resource, to, intermediate_locations, pickup_offset, destination_offset, pickup_distance_from_top, pickup_direction, drop_direction, **backend_kwargs)\u001b[39m\n\u001b[32m   2144\u001b[39m extra = \u001b[38;5;28mself\u001b[39m._check_args(\n\u001b[32m   2145\u001b[39m   \u001b[38;5;28mself\u001b[39m.backend.drop_resource,\n\u001b[32m   2146\u001b[39m   backend_kwargs,\n\u001b[32m   2147\u001b[39m   default={\u001b[33m\"\u001b[39m\u001b[33mdrop\u001b[39m\u001b[33m\"\u001b[39m},\n\u001b[32m   2148\u001b[39m   strictness=Strictness.IGNORE,\n\u001b[32m   2149\u001b[39m )\n\u001b[32m   2150\u001b[39m drop_kwargs = {k: v \u001b[38;5;28;01mfor\u001b[39;00m k, v \u001b[38;5;129;01min\u001b[39;00m backend_kwargs.items() \u001b[38;5;28;01mif\u001b[39;00m k \u001b[38;5;129;01mnot\u001b[39;00m \u001b[38;5;129;01min\u001b[39;00m extra}\n\u001b[32m-> \u001b[39m\u001b[32m2152\u001b[39m \u001b[38;5;28;01mawait\u001b[39;00m \u001b[38;5;28mself\u001b[39m.drop_resource(\n\u001b[32m   2153\u001b[39m   destination=to,\n\u001b[32m   2154\u001b[39m   offset=destination_offset,\n\u001b[32m   2155\u001b[39m   direction=drop_direction,\n\u001b[32m   2156\u001b[39m   **drop_kwargs,\n\u001b[32m   2157\u001b[39m )\n",
      "\u001b[36mFile \u001b[39m\u001b[32m~/Documents/Hamilton-Starlet/pylabrobot/pylabrobot/liquid_handling/liquid_handler.py:2043\u001b[39m, in \u001b[36mLiquidHandler.drop_resource\u001b[39m\u001b[34m(self, destination, offset, direction, **backend_kwargs)\u001b[39m\n\u001b[32m   2029\u001b[39m   to_location = destination.get_absolute_location()\n\u001b[32m   2031\u001b[39m drop = ResourceDrop(\n\u001b[32m   2032\u001b[39m   resource=\u001b[38;5;28mself\u001b[39m._resource_pickup.resource,\n\u001b[32m   2033\u001b[39m   destination=to_location,\n\u001b[32m   (...)\u001b[39m\u001b[32m   2041\u001b[39m   rotation=rotation_applied_by_move,\n\u001b[32m   2042\u001b[39m )\n\u001b[32m-> \u001b[39m\u001b[32m2043\u001b[39m result = \u001b[38;5;28;01mawait\u001b[39;00m \u001b[38;5;28mself\u001b[39m.backend.drop_resource(drop=drop, **backend_kwargs)\n\u001b[32m   2045\u001b[39m \u001b[38;5;66;03m# we rotate the resource on top of its original rotation. So in order to set the new rotation,\u001b[39;00m\n\u001b[32m   2046\u001b[39m \u001b[38;5;66;03m# we have to subtract its current rotation.\u001b[39;00m\n\u001b[32m   2047\u001b[39m resource.rotate(z=resource_rotation_wrt_destination - resource.rotation.z)\n",
      "\u001b[36mFile \u001b[39m\u001b[32m~/Documents/Hamilton-Starlet/pylabrobot/pylabrobot/liquid_handling/backends/hamilton/STAR_backend.py:3038\u001b[39m, in \u001b[36mSTARBackend.drop_resource\u001b[39m\u001b[34m(self, drop, use_arm, return_core_gripper, minimum_traverse_height_at_beginning_of_a_command, z_position_at_the_command_end, open_gripper_position, hotel_depth, hotel_clearance_height, hotel_high_speed, use_unsafe_hotel, iswap_collision_control_level, iswap_fold_up_sequence_at_the_end_of_process)\u001b[39m\n\u001b[32m   3035\u001b[39m   \u001b[38;5;28;01mif\u001b[39;00m use_unsafe_hotel:\n\u001b[32m   3036\u001b[39m     \u001b[38;5;28;01mraise\u001b[39;00m \u001b[38;5;167;01mValueError\u001b[39;00m(\u001b[33m\"\u001b[39m\u001b[33mCannot use iswap hotel mode with core grippers\u001b[39m\u001b[33m\"\u001b[39m)\n\u001b[32m-> \u001b[39m\u001b[32m3038\u001b[39m   \u001b[38;5;28;01mawait\u001b[39;00m \u001b[38;5;28mself\u001b[39m.core_release_picked_up_resource(\n\u001b[32m   3039\u001b[39m     location=Coordinate(x, y, z),\n\u001b[32m   3040\u001b[39m     resource=drop.resource,\n\u001b[32m   3041\u001b[39m     pickup_distance_from_top=drop.pickup_distance_from_top,\n\u001b[32m   3042\u001b[39m     minimum_traverse_height_at_beginning_of_a_command=\u001b[38;5;28mself\u001b[39m._iswap_traversal_height,\n\u001b[32m   3043\u001b[39m     z_position_at_the_command_end=\u001b[38;5;28mself\u001b[39m._iswap_traversal_height,\n\u001b[32m   3044\u001b[39m     \u001b[38;5;66;03m# int(previous_location.z + move.resource.get_size_z() / 2) * 10,\u001b[39;00m\n\u001b[32m   3045\u001b[39m     return_tool=return_core_gripper,\n\u001b[32m   3046\u001b[39m   )\n\u001b[32m   3047\u001b[39m \u001b[38;5;28;01melse\u001b[39;00m:\n\u001b[32m   3048\u001b[39m   \u001b[38;5;28;01mraise\u001b[39;00m \u001b[38;5;167;01mValueError\u001b[39;00m(\u001b[33mf\u001b[39m\u001b[33m\"\u001b[39m\u001b[33muse_arm must be either \u001b[39m\u001b[33m'\u001b[39m\u001b[33miswap\u001b[39m\u001b[33m'\u001b[39m\u001b[33m or \u001b[39m\u001b[33m'\u001b[39m\u001b[33mcore\u001b[39m\u001b[33m'\u001b[39m\u001b[33m, not \u001b[39m\u001b[38;5;132;01m{\u001b[39;00muse_arm\u001b[38;5;132;01m}\u001b[39;00m\u001b[33m\"\u001b[39m)\n",
      "\u001b[36mFile \u001b[39m\u001b[32m~/Documents/Hamilton-Starlet/pylabrobot/pylabrobot/liquid_handling/backends/hamilton/STAR_backend.py:2769\u001b[39m, in \u001b[36mSTARBackend.core_release_picked_up_resource\u001b[39m\u001b[34m(self, location, resource, pickup_distance_from_top, minimum_traverse_height_at_beginning_of_a_command, z_position_at_the_command_end, return_tool)\u001b[39m\n\u001b[32m   2766\u001b[39m grip_height = location.z + resource.get_absolute_size_z() - pickup_distance_from_top\n\u001b[32m   2767\u001b[39m grip_width = resource.get_absolute_size_y()\n\u001b[32m-> \u001b[39m\u001b[32m2769\u001b[39m \u001b[38;5;28;01mawait\u001b[39;00m \u001b[38;5;28mself\u001b[39m.core_put_plate(\n\u001b[32m   2770\u001b[39m   x_position=\u001b[38;5;28mround\u001b[39m(location.x * \u001b[32m10\u001b[39m),\n\u001b[32m   2771\u001b[39m   x_direction=\u001b[32m0\u001b[39m,\n\u001b[32m   2772\u001b[39m   y_position=\u001b[38;5;28mround\u001b[39m(location.y * \u001b[32m10\u001b[39m),\n\u001b[32m   2773\u001b[39m   z_position=\u001b[38;5;28mround\u001b[39m(grip_height * \u001b[32m10\u001b[39m),\n\u001b[32m   2774\u001b[39m   z_press_on_distance=\u001b[32m0\u001b[39m,\n\u001b[32m   2775\u001b[39m   z_speed=\u001b[32m500\u001b[39m,\n\u001b[32m   2776\u001b[39m   open_gripper_position=\u001b[38;5;28mround\u001b[39m(grip_width * \u001b[32m10\u001b[39m) + \u001b[32m30\u001b[39m,\n\u001b[32m   2777\u001b[39m   minimum_traverse_height_at_beginning_of_a_command=\u001b[38;5;28mround\u001b[39m(\n\u001b[32m   2778\u001b[39m     (minimum_traverse_height_at_beginning_of_a_command \u001b[38;5;129;01mor\u001b[39;00m \u001b[38;5;28mself\u001b[39m._iswap_traversal_height) * \u001b[32m10\u001b[39m\n\u001b[32m   2779\u001b[39m   ),\n\u001b[32m   2780\u001b[39m   z_position_at_the_command_end=\u001b[38;5;28mround\u001b[39m(\n\u001b[32m   2781\u001b[39m     (z_position_at_the_command_end \u001b[38;5;129;01mor\u001b[39;00m \u001b[38;5;28mself\u001b[39m._iswap_traversal_height) * \u001b[32m10\u001b[39m\n\u001b[32m   2782\u001b[39m   ),\n\u001b[32m   2783\u001b[39m   return_tool=return_tool,\n\u001b[32m   2784\u001b[39m )\n",
      "\u001b[36mFile \u001b[39m\u001b[32m~/Documents/Hamilton-Starlet/pylabrobot/pylabrobot/liquid_handling/backends/hamilton/STAR_backend.py:100\u001b[39m, in \u001b[36mneed_iswap_parked.<locals>.wrapper\u001b[39m\u001b[34m(self, *args, **kwargs)\u001b[39m\n\u001b[32m     95\u001b[39m \u001b[38;5;28;01mif\u001b[39;00m \u001b[38;5;28mself\u001b[39m.iswap_installed \u001b[38;5;129;01mand\u001b[39;00m \u001b[38;5;129;01mnot\u001b[39;00m \u001b[38;5;28mself\u001b[39m.iswap_parked:\n\u001b[32m     96\u001b[39m   \u001b[38;5;28;01mawait\u001b[39;00m \u001b[38;5;28mself\u001b[39m.park_iswap(\n\u001b[32m     97\u001b[39m     minimum_traverse_height_at_beginning_of_a_command=\u001b[38;5;28mint\u001b[39m(\u001b[38;5;28mself\u001b[39m._iswap_traversal_height * \u001b[32m10\u001b[39m)\n\u001b[32m     98\u001b[39m   )\n\u001b[32m--> \u001b[39m\u001b[32m100\u001b[39m result = \u001b[38;5;28;01mawait\u001b[39;00m method(\u001b[38;5;28mself\u001b[39m, *args, **kwargs)\n\u001b[32m    102\u001b[39m \u001b[38;5;28;01mreturn\u001b[39;00m result\n",
      "\u001b[36mFile \u001b[39m\u001b[32m~/Documents/Hamilton-Starlet/pylabrobot/pylabrobot/liquid_handling/backends/hamilton/STAR_backend.py:4836\u001b[39m, in \u001b[36mSTARBackend.core_put_plate\u001b[39m\u001b[34m(self, x_position, x_direction, y_position, z_position, z_press_on_distance, z_speed, open_gripper_position, minimum_traverse_height_at_beginning_of_a_command, z_position_at_the_command_end, return_tool)\u001b[39m\n\u001b[32m   4829\u001b[39m \u001b[38;5;28;01massert\u001b[39;00m (\n\u001b[32m   4830\u001b[39m   \u001b[32m0\u001b[39m <= minimum_traverse_height_at_beginning_of_a_command <= \u001b[32m3600\u001b[39m\n\u001b[32m   4831\u001b[39m ), \u001b[33m\"\u001b[39m\u001b[33mminimum_traverse_height_at_beginning_of_a_command must be between 0 and 3600\u001b[39m\u001b[33m\"\u001b[39m\n\u001b[32m   4832\u001b[39m \u001b[38;5;28;01massert\u001b[39;00m (\n\u001b[32m   4833\u001b[39m   \u001b[32m0\u001b[39m <= z_position_at_the_command_end <= \u001b[32m3600\u001b[39m\n\u001b[32m   4834\u001b[39m ), \u001b[33m\"\u001b[39m\u001b[33mz_position_at_the_command_end must be between 0 and 3600\u001b[39m\u001b[33m\"\u001b[39m\n\u001b[32m-> \u001b[39m\u001b[32m4836\u001b[39m command_output = \u001b[38;5;28;01mawait\u001b[39;00m \u001b[38;5;28mself\u001b[39m.send_command(\n\u001b[32m   4837\u001b[39m   module=\u001b[33m\"\u001b[39m\u001b[33mC0\u001b[39m\u001b[33m\"\u001b[39m,\n\u001b[32m   4838\u001b[39m   command=\u001b[33m\"\u001b[39m\u001b[33mZR\u001b[39m\u001b[33m\"\u001b[39m,\n\u001b[32m   4839\u001b[39m   xs=\u001b[33mf\u001b[39m\u001b[33m\"\u001b[39m\u001b[38;5;132;01m{\u001b[39;00mx_position\u001b[38;5;132;01m:\u001b[39;00m\u001b[33m05\u001b[39m\u001b[38;5;132;01m}\u001b[39;00m\u001b[33m\"\u001b[39m,\n\u001b[32m   4840\u001b[39m   xd=x_direction,\n\u001b[32m   4841\u001b[39m   yj=\u001b[33mf\u001b[39m\u001b[33m\"\u001b[39m\u001b[38;5;132;01m{\u001b[39;00my_position\u001b[38;5;132;01m:\u001b[39;00m\u001b[33m04\u001b[39m\u001b[38;5;132;01m}\u001b[39;00m\u001b[33m\"\u001b[39m,\n\u001b[32m   4842\u001b[39m   zj=\u001b[33mf\u001b[39m\u001b[33m\"\u001b[39m\u001b[38;5;132;01m{\u001b[39;00mz_position\u001b[38;5;132;01m:\u001b[39;00m\u001b[33m04\u001b[39m\u001b[38;5;132;01m}\u001b[39;00m\u001b[33m\"\u001b[39m,\n\u001b[32m   4843\u001b[39m   zi=\u001b[33mf\u001b[39m\u001b[33m\"\u001b[39m\u001b[38;5;132;01m{\u001b[39;00mz_press_on_distance\u001b[38;5;132;01m:\u001b[39;00m\u001b[33m03\u001b[39m\u001b[38;5;132;01m}\u001b[39;00m\u001b[33m\"\u001b[39m,\n\u001b[32m   4844\u001b[39m   zy=\u001b[33mf\u001b[39m\u001b[33m\"\u001b[39m\u001b[38;5;132;01m{\u001b[39;00mz_speed\u001b[38;5;132;01m:\u001b[39;00m\u001b[33m04\u001b[39m\u001b[38;5;132;01m}\u001b[39;00m\u001b[33m\"\u001b[39m,\n\u001b[32m   4845\u001b[39m   yo=\u001b[33mf\u001b[39m\u001b[33m\"\u001b[39m\u001b[38;5;132;01m{\u001b[39;00mopen_gripper_position\u001b[38;5;132;01m:\u001b[39;00m\u001b[33m04\u001b[39m\u001b[38;5;132;01m}\u001b[39;00m\u001b[33m\"\u001b[39m,\n\u001b[32m   4846\u001b[39m   th=\u001b[33mf\u001b[39m\u001b[33m\"\u001b[39m\u001b[38;5;132;01m{\u001b[39;00mminimum_traverse_height_at_beginning_of_a_command\u001b[38;5;132;01m:\u001b[39;00m\u001b[33m04\u001b[39m\u001b[38;5;132;01m}\u001b[39;00m\u001b[33m\"\u001b[39m,\n\u001b[32m   4847\u001b[39m   te=\u001b[33mf\u001b[39m\u001b[33m\"\u001b[39m\u001b[38;5;132;01m{\u001b[39;00mz_position_at_the_command_end\u001b[38;5;132;01m:\u001b[39;00m\u001b[33m04\u001b[39m\u001b[38;5;132;01m}\u001b[39;00m\u001b[33m\"\u001b[39m,\n\u001b[32m   4848\u001b[39m )\n\u001b[32m   4850\u001b[39m \u001b[38;5;28;01mif\u001b[39;00m return_tool:\n\u001b[32m   4851\u001b[39m   \u001b[38;5;28;01mawait\u001b[39;00m \u001b[38;5;28mself\u001b[39m.put_core()\n",
      "\u001b[36mFile \u001b[39m\u001b[32m~/Documents/Hamilton-Starlet/pylabrobot/pylabrobot/liquid_handling/backends/hamilton/base.py:247\u001b[39m, in \u001b[36mHamiltonLiquidHandler.send_command\u001b[39m\u001b[34m(self, module, command, auto_id, tip_pattern, write_timeout, read_timeout, wait, fmt, **kwargs)\u001b[39m\n\u001b[32m    222\u001b[39m \u001b[38;5;250m\u001b[39m\u001b[33;03m\"\"\"Send a firmware command to the Hamilton machine.\u001b[39;00m\n\u001b[32m    223\u001b[39m \n\u001b[32m    224\u001b[39m \u001b[33;03mArgs:\u001b[39;00m\n\u001b[32m   (...)\u001b[39m\u001b[32m    237\u001b[39m \u001b[33;03m  A dictionary containing the parsed response, or None if no response was read within `timeout`.\u001b[39;00m\n\u001b[32m    238\u001b[39m \u001b[33;03m\"\"\"\u001b[39;00m\n\u001b[32m    240\u001b[39m cmd, id_ = \u001b[38;5;28mself\u001b[39m._assemble_command(\n\u001b[32m    241\u001b[39m   module=module,\n\u001b[32m    242\u001b[39m   command=command,\n\u001b[32m   (...)\u001b[39m\u001b[32m    245\u001b[39m   **kwargs,\n\u001b[32m    246\u001b[39m )\n\u001b[32m--> \u001b[39m\u001b[32m247\u001b[39m resp = \u001b[38;5;28;01mawait\u001b[39;00m \u001b[38;5;28mself\u001b[39m._write_and_read_command(\n\u001b[32m    248\u001b[39m   id_=id_,\n\u001b[32m    249\u001b[39m   cmd=cmd,\n\u001b[32m    250\u001b[39m   write_timeout=write_timeout,\n\u001b[32m    251\u001b[39m   read_timeout=read_timeout,\n\u001b[32m    252\u001b[39m   wait=wait,\n\u001b[32m    253\u001b[39m )\n\u001b[32m    254\u001b[39m \u001b[38;5;28;01mif\u001b[39;00m resp \u001b[38;5;129;01mis\u001b[39;00m \u001b[38;5;129;01mnot\u001b[39;00m \u001b[38;5;28;01mNone\u001b[39;00m \u001b[38;5;129;01mand\u001b[39;00m fmt \u001b[38;5;129;01mis\u001b[39;00m \u001b[38;5;129;01mnot\u001b[39;00m \u001b[38;5;28;01mNone\u001b[39;00m:\n\u001b[32m    255\u001b[39m   \u001b[38;5;28;01mreturn\u001b[39;00m \u001b[38;5;28mself\u001b[39m._parse_response(resp, fmt)\n",
      "\u001b[36mFile \u001b[39m\u001b[32m~/Documents/Hamilton-Starlet/pylabrobot/pylabrobot/liquid_handling/backends/hamilton/base.py:279\u001b[39m, in \u001b[36mHamiltonLiquidHandler._write_and_read_command\u001b[39m\u001b[34m(self, id_, cmd, write_timeout, read_timeout, wait)\u001b[39m\n\u001b[32m    277\u001b[39m fut: asyncio.Future[\u001b[38;5;28mstr\u001b[39m] = loop.create_future()\n\u001b[32m    278\u001b[39m \u001b[38;5;28mself\u001b[39m._start_reading(id_, loop, fut, cmd, read_timeout)\n\u001b[32m--> \u001b[39m\u001b[32m279\u001b[39m result = \u001b[38;5;28;01mawait\u001b[39;00m fut\n\u001b[32m    280\u001b[39m \u001b[38;5;28;01mreturn\u001b[39;00m result\n",
      "\u001b[36mFile \u001b[39m\u001b[32m~/Documents/Hamilton-Starlet/pylabrobot/pylabrobot/liquid_handling/backends/hamilton/base.py:365\u001b[39m, in \u001b[36mHamiltonLiquidHandler._continuously_read\u001b[39m\u001b[34m(self)\u001b[39m\n\u001b[32m    361\u001b[39m \u001b[38;5;28;01mif\u001b[39;00m response_id == task.id_ \u001b[38;5;129;01mor\u001b[39;00m (\n\u001b[32m    362\u001b[39m   task.id_ \u001b[38;5;129;01mis\u001b[39;00m \u001b[38;5;28;01mNone\u001b[39;00m \u001b[38;5;129;01mand\u001b[39;00m task.cmd.startswith(module_and_command)\n\u001b[32m    363\u001b[39m ):\n\u001b[32m    364\u001b[39m   \u001b[38;5;28;01mtry\u001b[39;00m:\n\u001b[32m--> \u001b[39m\u001b[32m365\u001b[39m     \u001b[38;5;28;43mself\u001b[39;49m\u001b[43m.\u001b[49m\u001b[43mcheck_fw_string_error\u001b[49m\u001b[43m(\u001b[49m\u001b[43mresp\u001b[49m\u001b[43m)\u001b[49m\n\u001b[32m    366\u001b[39m   \u001b[38;5;28;01mexcept\u001b[39;00m \u001b[38;5;167;01mException\u001b[39;00m \u001b[38;5;28;01mas\u001b[39;00m e:\n\u001b[32m    367\u001b[39m     task.loop.call_soon_threadsafe(task.fut.set_exception, e)\n",
      "\u001b[36mFile \u001b[39m\u001b[32m~/Documents/Hamilton-Starlet/pylabrobot/pylabrobot/liquid_handling/backends/hamilton/STAR_backend.py:1333\u001b[39m, in \u001b[36mSTARBackend.check_fw_string_error\u001b[39m\u001b[34m(self, resp)\u001b[39m\n\u001b[32m   1323\u001b[39m   \u001b[38;5;28;01mif\u001b[39;00m error.message == \u001b[33m\"\u001b[39m\u001b[33mUnknown parameter\u001b[39m\u001b[33m\"\u001b[39m:\n\u001b[32m   1324\u001b[39m     \u001b[38;5;66;03m# temp. disabled until we figure out how to handle async in parse response (the\u001b[39;00m\n\u001b[32m   1325\u001b[39m     \u001b[38;5;66;03m# background thread does not have an event loop, and I'm not sure if it should.)\u001b[39;00m\n\u001b[32m   1326\u001b[39m     \u001b[38;5;66;03m# vp = await self.send_command(module=error.raw_module, command=\"VP\", fmt=\"vp&&\")[\"vp\"]\u001b[39;00m\n\u001b[32m   1327\u001b[39m     \u001b[38;5;66;03m# he[module_name].message += f\" ({vp})\"\u001b[39;00m\n\u001b[32m   1329\u001b[39m     he.errors[\n\u001b[32m   1330\u001b[39m       module_name\n\u001b[32m   1331\u001b[39m     ].message += \u001b[33m\"\u001b[39m\u001b[33m (call lh.backend.request_name_of_last_faulty_parameter)\u001b[39m\u001b[33m\"\u001b[39m\n\u001b[32m-> \u001b[39m\u001b[32m1333\u001b[39m \u001b[38;5;28;01mraise\u001b[39;00m he\n",
      "\u001b[31mSTARFirmwareError\u001b[39m: {'Pipetting channel 2': HardwareError('Stop during execution of command'), 'Pipetting channel 3': HardwareError('Y-drive movement error')}, C0ZRid0009er99/00 P202/37 P302/57"
     ]
    }
   ],
   "source": [
    "\n",
    "# --- move the plate from site 0 → site 1 on the *same* carrier -------------\n",
    "src  = pc1[0]          # the plate you want to move\n",
    "dest = pc1[1]          # an empty site on that carrier\n",
    "\n",
    "await lh.move_plate(                       # high-level helper\n",
    "    src,\n",
    "    dest,\n",
    "    use_arm=\"core\",                        # tell PLR to use the CO-RE gripper\n",
    "    channel_1=2, channel_2=3,              # zero-based channels that hold the fingers\n",
    "    core_grip_strength=30,                 # 0 = loose … 99 = very tight\n",
    "    return_core_gripper=True               # park the fingers afterwards\n",
    ")\n"
   ]
  },
  {
   "cell_type": "code",
   "execution_count": 11,
   "id": "7ced0b5b",
   "metadata": {},
   "outputs": [],
   "source": [
    "await lh.stop()"
   ]
  },
  {
   "cell_type": "code",
   "execution_count": 14,
   "id": "ee1e3138",
   "metadata": {},
   "outputs": [
    {
     "name": "stderr",
     "output_type": "stream",
     "text": [
      "USB device already connected. Closing previous connection.\n",
      "WARNING:root:Closing connection to USB device.\n"
     ]
    },
    {
     "ename": "AttributeError",
     "evalue": "'LiquidHandler' object has no attribute 'return_core_gripper'",
     "output_type": "error",
     "traceback": [
      "\u001b[31m---------------------------------------------------------------------------\u001b[39m",
      "\u001b[31mAttributeError\u001b[39m                            Traceback (most recent call last)",
      "\u001b[36mCell\u001b[39m\u001b[36m \u001b[39m\u001b[32mIn[14]\u001b[39m\u001b[32m, line 9\u001b[39m\n\u001b[32m      5\u001b[39m \u001b[38;5;28;01mawait\u001b[39;00m lh.setup()                 \u001b[38;5;66;03m# reconnect\u001b[39;00m\n\u001b[32m      7\u001b[39m \u001b[38;5;66;03m# 1. Tell PLR where the fingers are right now\u001b[39;00m\n\u001b[32m      8\u001b[39m \u001b[38;5;66;03m#    Your description: attachments sit on channels 1 & 2 (0-based)\u001b[39;00m\n\u001b[32m----> \u001b[39m\u001b[32m9\u001b[39m \u001b[38;5;28;01mawait\u001b[39;00m \u001b[43mlh\u001b[49m\u001b[43m.\u001b[49m\u001b[43mreturn_core_gripper\u001b[49m(\n\u001b[32m     10\u001b[39m     channel_1=\u001b[32m1\u001b[39m,     \u001b[38;5;66;03m# ← where the *left* finger sits now\u001b[39;00m\n\u001b[32m     11\u001b[39m     channel_2=\u001b[32m2\u001b[39m,     \u001b[38;5;66;03m# ← where the *right* finger sits now\u001b[39;00m\n\u001b[32m     12\u001b[39m     minimum_traverse_height_at_beginning_of_a_command=\u001b[32m150\u001b[39m,  \u001b[38;5;66;03m# mm; clear everything\u001b[39;00m\n\u001b[32m     13\u001b[39m )\n\u001b[32m     15\u001b[39m \u001b[38;5;66;03m# 2. Wait for the head to park the fingers.  The function returns when done.\u001b[39;00m\n",
      "\u001b[31mAttributeError\u001b[39m: 'LiquidHandler' object has no attribute 'return_core_gripper'"
     ]
    }
   ],
   "source": [
    "# 0. Fresh backend & LH\n",
    "# backend = STARBackend(auto_detach_kernel_driver=True)   # same serial-port you always use\n",
    "# lh      = LiquidHandler(backend=backend, deck=STARDeck())\n",
    "\n",
    "await lh.setup()                 # reconnect\n",
    "\n",
    "# 1. Tell PLR where the fingers are right now\n",
    "#    Your description: attachments sit on channels 1 & 2 (0-based)\n",
    "await lh.return_core_gripper(\n",
    "    channel_1=1,     # ← where the *left* finger sits now\n",
    "    channel_2=2,     # ← where the *right* finger sits now\n",
    "    minimum_traverse_height_at_beginning_of_a_command=150,  # mm; clear everything\n",
    ")\n",
    "\n",
    "# 2. Wait for the head to park the fingers.  The function returns when done.\n"
   ]
  }
 ],
 "metadata": {
  "kernelspec": {
   "display_name": "pylabrobot-env",
   "language": "python",
   "name": "python3"
  },
  "language_info": {
   "codemirror_mode": {
    "name": "ipython",
    "version": 3
   },
   "file_extension": ".py",
   "mimetype": "text/x-python",
   "name": "python",
   "nbconvert_exporter": "python",
   "pygments_lexer": "ipython3",
   "version": "3.13.5"
  }
 },
 "nbformat": 4,
 "nbformat_minor": 5
}
